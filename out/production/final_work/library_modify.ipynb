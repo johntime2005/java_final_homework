{
    "metadata": {
        "kernelspec": {
            "name": "SQL",
            "display_name": "SQL",
            "language": "sql"
        },
        "language_info": {
            "name": "sql",
            "version": ""
        }
    },
    "nbformat_minor": 2,
    "nbformat": 4,
    "cells": [
        {
            "cell_type": "code",
            "source": [
                "-- 删除libriry库\r\n",
                "DROP DATABASE IF EXISTS library;"
            ],
            "metadata": {
                "azdata_cell_guid": "146f33d2-1b2c-47e7-9d3a-2fea1160b4fe",
                "language": "sql",
                "tags": []
            },
            "outputs": [
                {
                    "output_type": "display_data",
                    "data": {
                        "text/html": "命令已成功完成。"
                    },
                    "metadata": {}
                },
                {
                    "output_type": "display_data",
                    "data": {
                        "text/html": "执行时间总计: 00:00:00.172"
                    },
                    "metadata": {}
                }
            ],
            "execution_count": 6
        },
        {
            "cell_type": "code",
            "source": [
                "-- 显示libriry库中的所有表\r\n",
                "SELECT * FROM library;\r\n",
                ""
            ],
            "metadata": {
                "azdata_cell_guid": "5e660c2c-6f97-46ca-a2ef-ae99b90667bd",
                "language": "sql"
            },
            "outputs": [
                {
                    "output_type": "display_data",
                    "data": {
                        "text/html": "(0 行受到影响)"
                    },
                    "metadata": {}
                },
                {
                    "output_type": "display_data",
                    "data": {
                        "text/html": "执行时间总计: 00:00:00.040"
                    },
                    "metadata": {}
                },
                {
                    "output_type": "execute_result",
                    "metadata": {},
                    "execution_count": 9,
                    "data": {
                        "application/vnd.dataresource+json": {
                            "schema": {
                                "fields": [
                                    {
                                        "name": "id"
                                    },
                                    {
                                        "name": "book_name"
                                    },
                                    {
                                        "name": "author"
                                    },
                                    {
                                        "name": "publish_date"
                                    },
                                    {
                                        "name": "status"
                                    }
                                ]
                            },
                            "data": []
                        },
                        "text/html": [
                            "<table>",
                            "<tr><th>id</th><th>book_name</th><th>author</th><th>publish_date</th><th>status</th></tr>",
                            "</table>"
                        ]
                    }
                }
            ],
            "execution_count": 9
        }
    ]
}