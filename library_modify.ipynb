{
    "metadata": {
        "kernelspec": {
            "name": "SQL",
            "display_name": "SQL",
            "language": "sql"
        },
        "language_info": {
            "name": "sql",
            "version": ""
        }
    },
    "nbformat_minor": 2,
    "nbformat": 4,
    "cells": [
        {
            "cell_type": "markdown",
            "source": [
                "删除library库"
            ],
            "metadata": {
                "azdata_cell_guid": "c2c7ce9f-f96c-4696-ba7c-22ff7ec48f0e"
            },
            "attachments": {}
        },
        {
            "cell_type": "markdown",
            "source": [
                "删除library库"
            ],
            "metadata": {
                "azdata_cell_guid": "c2c7ce9f-f96c-4696-ba7c-22ff7ec48f0e"
            },
            "attachments": {}
        },
        {
            "cell_type": "code",
            "source": [
                "-- 1. 切换到master数据库\n",
                "USE master;\n",
                "GO\n",
                "\n",
                "-- 2. 断开所有连接\n",
                "ALTER DATABASE library SET SINGLE_USER WITH ROLLBACK IMMEDIATE;\n",
                "GO\n",
                "\n",
                "-- 3. 删除数据库\n",
                "DROP DATABASE library;\n",
                "GO"
            ],
            "metadata": {
                "azdata_cell_guid": "2c514e67-a026-4f3e-b346-c933b595f98c",
                "language": "sql",
                "tags": []
            },
            "outputs": [
                {
                    "output_type": "display_data",
                    "data": {
                        "text/html": "命令已成功完成。"
                    },
                    "metadata": {}
                },
                {
                    "output_type": "display_data",
                    "data": {
                        "text/html": "Nonqualified transactions are being rolled back. Estimated rollback completion: 0%."
                    },
                    "metadata": {}
                },
                {
                    "output_type": "error",
                    "ename": "",
                    "evalue": "Msg 5069, Level 16, State 1, Line 6\r\nALTER DATABASE statement failed.",
                    "traceback": []
                },
                {
                    "output_type": "display_data",
                    "data": {
                        "text/html": "查询已被用户取消"
                    },
                    "metadata": {}
                },
                {
                    "output_type": "error",
                    "ename": "",
                    "evalue": "查询失败: The operation was canceled.",
                    "traceback": []
                },
                {
                    "output_type": "display_data",
                    "data": {
                        "text/html": "查询已被用户取消"
                    },
                    "metadata": {}
                },
                {
                    "output_type": "display_data",
                    "data": {
                        "text/html": "执行时间总计: 00:00:01.900"
                    },
                    "metadata": {}
                }
            ],
            "execution_count": 1
        },
        {
            "cell_type": "markdown",
            "source": [
                "列出lirary中的所有表"
            ],
            "metadata": {
                "azdata_cell_guid": "bae42a51-5a91-485c-a83d-0b001add783e"
            },
            "attachments": {}
        },
        {
            "cell_type": "code",
            "source": [
                "USE library;\n",
                "GO\n",
                "\n",
                "-- 使用系统视图查看所有表\n",
                "SELECT name \n",
                "FROM sys.tables;"
            ],
            "metadata": {
                "azdata_cell_guid": "5bdae4bc-f4c9-4fee-b123-93584dc4754b",
                "language": "sql",
                "tags": []
            },
            "outputs": [
                {
                    "output_type": "display_data",
                    "data": {
                        "text/html": "命令已成功完成。"
                    },
                    "metadata": {}
                },
                {
                    "output_type": "display_data",
                    "data": {
                        "text/html": "(4 行受到影响)"
                    },
                    "metadata": {}
                },
                {
                    "output_type": "display_data",
                    "data": {
                        "text/html": "执行时间总计: 00:00:00.244"
                    },
                    "metadata": {}
                },
                {
                    "output_type": "execute_result",
                    "execution_count": 2,
                    "data": {
                        "application/vnd.dataresource+json": {
                            "schema": {
                                "fields": [
                                    {
                                        "name": "name"
                                    }
                                ]
                            },
                            "data": [
                                {
                                    "name": "library_user"
                                },
                                {
                                    "name": "books"
                                },
                                {
                                    "name": "student"
                                },
                                {
                                    "name": "user_book"
                                }
                            ]
                        },
                        "text/html": "<table><tr><th>name</th></tr><tr><td>library_user</td></tr><tr><td>books</td></tr><tr><td>student</td></tr><tr><td>user_book</td></tr></table>"
                    },
                    "metadata": {}
                }
            ],
            "execution_count": 2
        },
        {
            "cell_type": "code",
            "source": [
                "-- 删除特定的表\n",
                "USE library;\n",
                "DROP TABLE IF EXISTS library_user;"
            ],
            "metadata": {
                "azdata_cell_guid": "220c74a1-ba0c-493e-8899-011723be2742",
                "language": "sql",
                "tags": []
            },
            "outputs": [
                {
                    "output_type": "error",
                    "ename": "",
                    "evalue": "Msg 3726, Level 16, State 1, Line 3\r\nCould not drop object 'library_user' because it is referenced by a FOREIGN KEY constraint.",
                    "traceback": []
                },
                {
                    "output_type": "display_data",
                    "data": {
                        "text/html": "执行时间总计: 00:00:00.042"
                    },
                    "metadata": {}
                }
            ],
            "execution_count": 22
        },
        {
            "cell_type": "markdown",
            "source": [
                "列出user表的内容"
            ],
            "metadata": {
                "azdata_cell_guid": "4b80f22f-8a89-4a03-9ce4-b5fa078e017b"
            },
            "attachments": {}
        },
        {
            "cell_type": "code",
            "source": [
                "-- 首先切换到library数据库\n",
                "USE library;\n",
                "GO\n",
                "\n",
                "-- 显示user表中的所有数据\n",
                "SELECT * FROM library_user;"
            ],
            "metadata": {
                "azdata_cell_guid": "1f1aef22-69c2-4e8b-b4b4-8679676f5c34",
                "language": "sql",
                "tags": []
            },
            "outputs": [
{
    "output_type": "display_data",
    "data": {
        "text/html": "命令已成功完成。"
    },
    "metadata": {}
}, {
    "output_type": "display_data",
    "data": {
        "text/html": "(9 行受到影响)"
    },
    "metadata": {}
}, {
    "output_type": "display_data",
    "data": {
        "text/html": "执行时间总计: 00:00:00.066"
    },
    "metadata": {}
}, {
    "output_type": "execute_result",
    "metadata": {},
    "execution_count": 2,
    "data": {
        "application/vnd.dataresource+json": {
            "schema": {
                "fields": [
                    {
                        "name": "id"
                    },
                    {
                        "name": "username"
                    },
                    {
                        "name": "password"
                    },
                    {
                        "name": "user_type"
                    },
                    {
                        "name": "balance"
                    }
                ]
            },
            "data": [
                {
                    "id": "1",
                    "username": "admin",
                    "password": "admin",
                    "user_type": "admin",
                    "balance": "-12"
                },
                {
                    "id": "2",
                    "username": "123",
                    "password": "123",
                    "user_type": "user",
                    "balance": "0"
                },
                {
                    "id": "3",
                    "username": "wzz",
                    "password": "952891332",
                    "user_type": "user",
                    "balance": "0"
                },
                {
                    "id": "4",
                    "username": "王樟卓",
                    "password": "952891332",
                    "user_type": "user",
                    "balance": "0"
                },
                {
                    "id": "5",
                    "username": "王2",
                    "password": "952891332",
                    "user_type": "user",
                    "balance": "10"
                },
                {
                    "id": "6",
                    "username": "1234",
                    "password": "1234",
                    "user_type": "user",
                    "balance": "9"
                },
                {
                    "id": "7",
                    "username": "12345",
                    "password": "12345",
                    "user_type": "user",
                    "balance": "10"
                },
                {
                    "id": "8",
                    "username": "159",
                    "password": "159",
                    "user_type": "user",
                    "balance": "10"
                },
                {
                    "id": "10",
                    "username": "569",
                    "password": "569",
                    "user_type": "user",
                    "balance": "9"
                }
            ]
        },
        "text/html": [
            "<table>",
            "<tr><th>id</th><th>username</th><th>password</th><th>user_type</th><th>balance</th></tr>",
            "<tr><td>1</td><td>admin</td><td>admin</td><td>admin</td><td>-12</td></tr>",
            "<tr><td>2</td><td>123</td><td>123</td><td>user</td><td>0</td></tr>",
            "<tr><td>3</td><td>wzz</td><td>952891332</td><td>user</td><td>0</td></tr>",
            "<tr><td>4</td><td>王樟卓</td><td>952891332</td><td>user</td><td>0</td></tr>",
            "<tr><td>5</td><td>王2</td><td>952891332</td><td>user</td><td>10</td></tr>",
            "<tr><td>6</td><td>1234</td><td>1234</td><td>user</td><td>9</td></tr>",
            "<tr><td>7</td><td>12345</td><td>12345</td><td>user</td><td>10</td></tr>",
            "<tr><td>8</td><td>159</td><td>159</td><td>user</td><td>10</td></tr>",
            "<tr><td>10</td><td>569</td><td>569</td><td>user</td><td>9</td></tr>",
            "</table>"
        ]
    }
}
],
            "execution_count": 2
        },
        {
            "cell_type": "code",
            "source": [
                "--首先切换到library数据库\r\n",
                "use library;\r\n",
                "GO\r\n",
                "\r\n",
                "-- 显示books表的所有数据\r\n",
                "SELECT * FROM books;"
            ],
            "metadata": {
                "azdata_cell_guid": "62e63547-a9c1-4ffe-ab43-e71471c1da98",
                "language": "sql"
            },
            "outputs": [
                {
                    "output_type": "display_data",
                    "data": {
                        "text/html": "命令已成功完成。"
                    },
                    "metadata": {}
                },
                {
                    "output_type": "display_data",
                    "data": {
                        "text/html": "(24 行受到影响)"
                    },
                    "metadata": {}
                },
                {
                    "output_type": "display_data",
                    "data": {
                        "text/html": "执行时间总计: 00:00:00.108"
                    },
                    "metadata": {}
                },
                {
                    "output_type": "execute_result",
                    "metadata": {},
                    "execution_count": 1,
                    "data": {
                        "application/vnd.dataresource+json": {
                            "schema": {
                                "fields": [
                                    {
                                        "name": "id"
                                    },
                                    {
                                        "name": "title"
                                    },
                                    {
                                        "name": "author"
                                    },
                                    {
                                        "name": "publisher"
                                    },
                                    {
                                        "name": "isborrowed"
                                    }
                                ]
                            },
                            "data": [
                                {
                                    "id": "1",
                                    "title": "123",
                                    "author": "123",
                                    "publisher": "123",
                                    "isborrowed": "1"
                                },
                                {
                                    "id": "2",
                                    "title": "123",
                                    "author": "123",
                                    "publisher": "123",
                                    "isborrowed": "1"
                                },
                                {
                                    "id": "3",
                                    "title": "123",
                                    "author": "123",
                                    "publisher": "123",
                                    "isborrowed": "1"
                                },
                                {
                                    "id": "4",
                                    "title": "12",
                                    "author": "123",
                                    "publisher": "123",
                                    "isborrowed": "1"
                                },
                                {
                                    "id": "5",
                                    "title": "456",
                                    "author": "456",
                                    "publisher": "456",
                                    "isborrowed": "1"
                                },
                                {
                                    "id": "6",
                                    "title": "789",
                                    "author": "789",
                                    "publisher": "789",
                                    "isborrowed": "1"
                                },
                                {
                                    "id": "7",
                                    "title": "147",
                                    "author": "147",
                                    "publisher": "147",
                                    "isborrowed": "1"
                                },
                                {
                                    "id": "8",
                                    "title": "568",
                                    "author": "5689",
                                    "publisher": "4568",
                                    "isborrowed": "1"
                                },
                                {
                                    "id": "9",
                                    "title": "nihao",
                                    "author": "nihao",
                                    "publisher": "nihao",
                                    "isborrowed": "1"
                                },
                                {
                                    "id": "12",
                                    "title": "123",
                                    "author": "123",
                                    "publisher": "123",
                                    "isborrowed": "0"
                                },
                                {
                                    "id": "13",
                                    "title": "123",
                                    "author": "123",
                                    "publisher": "123",
                                    "isborrowed": "0"
                                },
                                {
                                    "id": "15",
                                    "title": "123",
                                    "author": "123",
                                    "publisher": "123",
                                    "isborrowed": "0"
                                },
                                {
                                    "id": "16",
                                    "title": "123",
                                    "author": "123",
                                    "publisher": "132",
                                    "isborrowed": "0"
                                },
                                {
                                    "id": "17",
                                    "title": "123",
                                    "author": "123",
                                    "publisher": "132",
                                    "isborrowed": "0"
                                },
                                {
                                    "id": "18",
                                    "title": "123",
                                    "author": "123",
                                    "publisher": "132",
                                    "isborrowed": "0"
                                },
                                {
                                    "id": "19",
                                    "title": "123",
                                    "author": "123",
                                    "publisher": "132",
                                    "isborrowed": "0"
                                },
                                {
                                    "id": "20",
                                    "title": "123",
                                    "author": "123",
                                    "publisher": "132",
                                    "isborrowed": "1"
                                },
                                {
                                    "id": "21",
                                    "title": "123",
                                    "author": "123",
                                    "publisher": "132",
                                    "isborrowed": "0"
                                },
                                {
                                    "id": "22",
                                    "title": "123",
                                    "author": "123",
                                    "publisher": "132",
                                    "isborrowed": "1"
                                },
                                {
                                    "id": "23",
                                    "title": "123",
                                    "author": "123",
                                    "publisher": "132",
                                    "isborrowed": "0"
                                },
                                {
                                    "id": "24",
                                    "title": "123",
                                    "author": "123",
                                    "publisher": "132",
                                    "isborrowed": "0"
                                },
                                {
                                    "id": "25",
                                    "title": "",
                                    "author": "",
                                    "publisher": "",
                                    "isborrowed": "0"
                                },
                                {
                                    "id": "26",
                                    "title": "123",
                                    "author": "123",
                                    "publisher": "123",
                                    "isborrowed": "0"
                                },
                                {
                                    "id": "27",
                                    "title": "147",
                                    "author": "147",
                                    "publisher": "147",
                                    "isborrowed": "0"
                                }
                            ]
                        },
                        "text/html": [
                            "<table>",
                            "<tr><th>id</th><th>title</th><th>author</th><th>publisher</th><th>isborrowed</th></tr>",
                            "<tr><td>1</td><td>123</td><td>123</td><td>123</td><td>1</td></tr>",
                            "<tr><td>2</td><td>123</td><td>123</td><td>123</td><td>1</td></tr>",
                            "<tr><td>3</td><td>123</td><td>123</td><td>123</td><td>1</td></tr>",
                            "<tr><td>4</td><td>12</td><td>123</td><td>123</td><td>1</td></tr>",
                            "<tr><td>5</td><td>456</td><td>456</td><td>456</td><td>1</td></tr>",
                            "<tr><td>6</td><td>789</td><td>789</td><td>789</td><td>1</td></tr>",
                            "<tr><td>7</td><td>147</td><td>147</td><td>147</td><td>1</td></tr>",
                            "<tr><td>8</td><td>568</td><td>5689</td><td>4568</td><td>1</td></tr>",
                            "<tr><td>9</td><td>nihao</td><td>nihao</td><td>nihao</td><td>1</td></tr>",
                            "<tr><td>12</td><td>123</td><td>123</td><td>123</td><td>0</td></tr>",
                            "<tr><td>13</td><td>123</td><td>123</td><td>123</td><td>0</td></tr>",
                            "<tr><td>15</td><td>123</td><td>123</td><td>123</td><td>0</td></tr>",
                            "<tr><td>16</td><td>123</td><td>123</td><td>132</td><td>0</td></tr>",
                            "<tr><td>17</td><td>123</td><td>123</td><td>132</td><td>0</td></tr>",
                            "<tr><td>18</td><td>123</td><td>123</td><td>132</td><td>0</td></tr>",
                            "<tr><td>19</td><td>123</td><td>123</td><td>132</td><td>0</td></tr>",
                            "<tr><td>20</td><td>123</td><td>123</td><td>132</td><td>1</td></tr>",
                            "<tr><td>21</td><td>123</td><td>123</td><td>132</td><td>0</td></tr>",
                            "<tr><td>22</td><td>123</td><td>123</td><td>132</td><td>1</td></tr>",
                            "<tr><td>23</td><td>123</td><td>123</td><td>132</td><td>0</td></tr>",
                            "<tr><td>24</td><td>123</td><td>123</td><td>132</td><td>0</td></tr>",
                            "<tr><td>25</td><td></td><td></td><td></td><td>0</td></tr>",
                            "<tr><td>26</td><td>123</td><td>123</td><td>123</td><td>0</td></tr>",
                            "<tr><td>27</td><td>147</td><td>147</td><td>147</td><td>0</td></tr>",
                            "</table>"
                        ]
                    }
                }
            ],
            "execution_count": 1
        },
        {
            "cell_type": "code",
            "source": [
                "-- 设置表可插入\r\n",
                "SET IDENTITY_INSERT [dbo].[library_user] ON"
            ],
            "metadata": {
                "azdata_cell_guid": "dc014dfc-164d-45e6-bbfe-d56565c64fb1",
                "language": "sql"
            },
            "outputs": [
                {
                    "output_type": "display_data",
                    "data": {
                        "text/html": "命令已成功完成。"
                    },
                    "metadata": {}
                },
                {
                    "output_type": "display_data",
                    "data": {
                        "text/html": "执行时间总计: 00:00:00.030"
                    },
                    "metadata": {}
                }
            ],
            "execution_count": 2
        },
        {
            "cell_type": "code",
            "source": [
                "-- 添加user中admin人物\n",
                "USE library;\n",
                "SELECT user;\n",
                "INSERT INTO library_user (id, username, password, user_type, balance) VALUES (1, 'admin', 'admin', 'admin', 2147483647);"
            ],
            "metadata": {
                "azdata_cell_guid": "17182a7c-feb1-4a5c-a43e-0f5ec3ff7488",
                "language": "sql"
            },
            "outputs": [
                {
                    "output_type": "display_data",
                    "data": {
                        "text/html": "(1 行受到影响)"
                    },
                    "metadata": {}
                },
                {
                    "output_type": "display_data",
                    "data": {
                        "text/html": "执行时间总计: 00:00:00.034"
                    },
                    "metadata": {}
                },
                {
                    "output_type": "execute_result",
                    "execution_count": 2,
                    "data": {
                        "application/vnd.dataresource+json": {
                            "schema": {
                                "fields": [
                                    {
                                        "name": "(无列名称)"
                                    }
                                ]
                            },
                            "data": [
                                {
                                    "(无列名称)": "dbo"
                                }
                            ]
                        },
                        "text/html": "<table><tr><th>(无列名称)</th></tr><tr><td>dbo</td></tr></table>"
                    },
                    "metadata": {}
                },
                {
                    "output_type": "error",
                    "ename": "",
                    "evalue": "Msg 544, Level 16, State 1, Line 4\r\nCannot insert explicit value for identity column in table 'library_user' when IDENTITY_INSERT is set to OFF.",
                    "traceback": []
                }
            ],
            "execution_count": 2
        }
    ]
}