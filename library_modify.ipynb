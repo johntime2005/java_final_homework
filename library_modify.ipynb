{
    "metadata": {
        "kernelspec": {
            "name": "SQL",
            "display_name": "SQL",
            "language": "sql"
        },
        "language_info": {
            "name": "sql",
            "version": ""
        }
    },
    "nbformat_minor": 2,
    "nbformat": 4,
    "cells": [
        {
            "cell_type": "markdown",
            "source": [
                "删除library库"
            ],
            "metadata": {
                "azdata_cell_guid": "c2c7ce9f-f96c-4696-ba7c-22ff7ec48f0e"
            },
            "attachments": {}
        },
        {
            "cell_type": "code",
            "source": [
                "-- 1. 切换到master数据库\r\n",
                "USE master;\r\n",
                "GO\r\n",
                "\r\n",
                "-- 3. 删除数据库\r\n",
                "DROP DATABASE library;\r\n",
                "GO"
            ],
            "metadata": {
                "azdata_cell_guid": "2c514e67-a026-4f3e-b346-c933b595f98c",
                "language": "sql",
                "tags": []
            },
            "outputs": [
                {
                    "output_type": "display_data",
                    "data": {
                        "text/html": "命令已成功完成。"
                    },
                    "metadata": {}
                },
                {
                    "output_type": "display_data",
                    "data": {
                        "text/html": "命令已成功完成。"
                    },
                    "metadata": {}
                },
                {
                    "output_type": "display_data",
                    "data": {
                        "text/html": "执行时间总计: 00:00:00.199"
                    },
                    "metadata": {}
                }
            ],
            "execution_count": 40
        },
        {
            "cell_type": "markdown",
            "source": [
                "列出lirary中的所有表"
            ],
            "metadata": {
                "azdata_cell_guid": "bae42a51-5a91-485c-a83d-0b001add783e"
            },
            "attachments": {}
        },
        {
            "cell_type": "code",
            "source": [
                "USE library;\r\n",
                "GO\r\n",
                "\r\n",
                "-- 使用系统视图查看所有表\r\n",
                "SELECT name \r\n",
                "FROM sys.tables;"
            ],
            "metadata": {
                "azdata_cell_guid": "5bdae4bc-f4c9-4fee-b123-93584dc4754b",
                "language": "sql",
                "tags": []
            },
            "outputs": [
                {
                    "output_type": "display_data",
                    "data": {
                        "text/html": "命令已成功完成。"
                    },
                    "metadata": {}
                },
                {
                    "output_type": "display_data",
                    "data": {
                        "text/html": "(1 行受到影响)"
                    },
                    "metadata": {}
                },
                {
                    "output_type": "display_data",
                    "data": {
                        "text/html": "执行时间总计: 00:00:00.075"
                    },
                    "metadata": {}
                },
                {
                    "output_type": "execute_result",
                    "metadata": {},
                    "execution_count": 4,
                    "data": {
                        "application/vnd.dataresource+json": {
                            "schema": {
                                "fields": [
                                    {
                                        "name": "name"
                                    }
                                ]
                            },
                            "data": [
                                {
                                    "name": "library_user"
                                }
                            ]
                        },
                        "text/html": [
                            "<table>",
                            "<tr><th>name</th></tr>",
                            "<tr><td>library_user</td></tr>",
                            "</table>"
                        ]
                    }
                }
            ],
            "execution_count": 4
        },
        {
            "cell_type": "markdown",
            "source": [
                "列出user表的内容"
            ],
            "metadata": {
                "azdata_cell_guid": "4b80f22f-8a89-4a03-9ce4-b5fa078e017b"
            },
            "attachments": {}
        },
        {
            "cell_type": "code",
            "source": [
                "-- 首先切换到library数据库\r\n",
                "USE library;\r\n",
                "GO\r\n",
                "\r\n",
                "-- 显示user表中的所有数据\r\n",
                "SELECT * FROM library_user;"
            ],
            "metadata": {
                "azdata_cell_guid": "1f1aef22-69c2-4e8b-b4b4-8679676f5c34",
                "language": "sql"
            },
            "outputs": [
{
    "output_type": "display_data",
    "data": {
        "text/html": "命令已成功完成。"
    },
    "metadata": {}
}, {
    "output_type": "display_data",
    "data": {
        "text/html": "(3 行受到影响)"
    },
    "metadata": {}
}, {
    "output_type": "display_data",
    "data": {
        "text/html": "执行时间总计: 00:00:00.063"
    },
    "metadata": {}
}, {
    "output_type": "execute_result",
    "metadata": {},
    "execution_count": 5,
    "data": {
        "application/vnd.dataresource+json": {
            "schema": {
                "fields": [
                    {
                        "name": "id"
                    },
                    {
                        "name": "name"
                    },
                    {
                        "name": "age"
                    },
                    {
                        "name": "balance"
                    }
                ]
            },
            "data": [
                {
                    "id": "1",
                    "name": "张三",
                    "age": "25",
                    "balance": "500"
                },
                {
                    "id": "3",
                    "name": "张三",
                    "age": "25",
                    "balance": "500"
                },
                {
                    "id": "4",
                    "name": "李四",
                    "age": "28",
                    "balance": "1000"
                }
            ]
        },
        "text/html": [
            "<table>",
            "<tr><th>id</th><th>name</th><th>age</th><th>balance</th></tr>",
            "<tr><td>1</td><td>张三</td><td>25</td><td>500</td></tr>",
            "<tr><td>3</td><td>张三</td><td>25</td><td>500</td></tr>",
            "<tr><td>4</td><td>李四</td><td>28</td><td>1000</td></tr>",
            "</table>"
        ]
    }
}
],
            "execution_count": 5
        }
    ]
}