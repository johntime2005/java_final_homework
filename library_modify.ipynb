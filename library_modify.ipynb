{
    "metadata": {
        "kernelspec": {
            "name": "SQL",
            "display_name": "SQL",
            "language": "sql"
        },
        "language_info": {
            "name": "sql",
            "version": ""
        }
    },
    "nbformat_minor": 2,
    "nbformat": 4,
    "cells": [
        {
            "cell_type": "markdown",
            "source": [
                "删除library库"
            ],
            "metadata": {
                "azdata_cell_guid": "c2c7ce9f-f96c-4696-ba7c-22ff7ec48f0e"
            },
            "attachments": {}
        },
        {
            "cell_type": "markdown",
            "source": [
                "删除library库"
            ],
            "metadata": {
                "azdata_cell_guid": "c2c7ce9f-f96c-4696-ba7c-22ff7ec48f0e"
            },
            "attachments": {}
        },
        {
            "cell_type": "code",
            "source": [
                "    -- 1. 切换到master数据库\r\n",
                "USE master;\r\n",
                "GO\r\n",
                "\r\n",
                "-- 3. 删除数据库\r\n",
                "DROP DATABASE library;\r\n",
                "GO"
            ],
            "metadata": {
                "azdata_cell_guid": "2c514e67-a026-4f3e-b346-c933b595f98c",
                "language": "sql",
                "tags": []
            },
            "outputs": [
{
    "output_type": "display_data",
    "data": {
        "text/html": "命令已成功完成。"
    },
    "metadata": {}
}, {
    "output_type": "error",
    "evalue": "Msg 3702, Level 16, State 4, Line 6\r\nCannot drop database \"library\" because it is currently in use.",
    "ename": "",
    "traceback": []
}, {
    "output_type": "display_data",
    "data": {
        "text/html": "执行时间总计: 00:00:20.112"
    },
    "metadata": {}
}
],
            "execution_count": 8
        },
        {
            "cell_type": "markdown",
            "source": [
                "列出lirary中的所有表"
            ],
            "metadata": {
                "azdata_cell_guid": "bae42a51-5a91-485c-a83d-0b001add783e"
            },
            "attachments": {}
        },
        {
            "cell_type": "code",
            "source": [
                "USE library;\r\n",
                "GO\r\n",
                "\r\n",
                "-- 使用系统视图查看所有表\r\n",
                "SELECT name \r\n",
                "FROM sys.tables;"
            ],
            "metadata": {
                "azdata_cell_guid": "5bdae4bc-f4c9-4fee-b123-93584dc4754b",
                "language": "sql",
                "tags": []
            },
            "outputs": [
                {
                    "output_type": "display_data",
                    "data": {
                        "text/html": "命令已成功完成。"
                    },
                    "metadata": {}
                },
                {
                    "output_type": "display_data",
                    "data": {
                        "text/html": "(3 行受到影响)"
                    },
                    "metadata": {}
                },
                {
                    "output_type": "display_data",
                    "data": {
                        "text/html": "执行时间总计: 00:00:00.121"
                    },
                    "metadata": {}
                },
                {
                    "output_type": "execute_result",
                    "metadata": {},
                    "execution_count": 2,
                    "data": {
                        "application/vnd.dataresource+json": {
                            "schema": {
                                "fields": [
                                    {
                                        "name": "name"
                                    }
                                ]
                            },
                            "data": [
                                {
                                    "name": "library_user"
                                },
                                {
                                    "name": "books"
                                },
                                {
                                    "name": "user_book"
                                }
                            ]
                        },
                        "text/html": [
                            "<table>",
                            "<tr><th>name</th></tr>",
                            "<tr><td>library_user</td></tr>",
                            "<tr><td>books</td></tr>",
                            "<tr><td>user_book</td></tr>",
                            "</table>"
                        ]
                    }
                }
            ],
            "execution_count": 2
        },
        {
            "cell_type": "code",
            "source": [
                "-- 删除特定的表\r\n",
                ""
            ],
            "metadata": {
                "azdata_cell_guid": "220c74a1-ba0c-493e-8899-011723be2742",
                "language": "sql"
            },
            "outputs": [],
            "execution_count": null
        },
        {
            "cell_type": "markdown",
            "source": [
                "列出user表的内容"
            ],
            "metadata": {
                "azdata_cell_guid": "4b80f22f-8a89-4a03-9ce4-b5fa078e017b"
            },
            "attachments": {}
        },
        {
            "cell_type": "code",
            "source": [
                "-- 首先切换到library数据库\r\n",
                "USE library;\r\n",
                "GO\r\n",
                "\r\n",
                "-- 显示user表中的所有数据\r\n",
                "SELECT * FROM library_user;"
            ],
            "metadata": {
                "azdata_cell_guid": "1f1aef22-69c2-4e8b-b4b4-8679676f5c34",
                "language": "sql",
                "tags": [
                    "hide_input"
                ]
            },
            "outputs": [
                {
                    "output_type": "display_data",
                    "data": {
                        "text/html": "命令已成功完成。"
                    },
                    "metadata": {}
                },
                {
                    "output_type": "display_data",
                    "data": {
                        "text/html": "(6 行受到影响)"
                    },
                    "metadata": {}
                },
                {
                    "output_type": "display_data",
                    "data": {
                        "text/html": "执行时间总计: 00:00:00.083"
                    },
                    "metadata": {}
                },
                {
                    "output_type": "execute_result",
                    "metadata": {},
                    "execution_count": 4,
                    "data": {
                        "application/vnd.dataresource+json": {
                            "schema": {
                                "fields": [
                                    {
                                        "name": "id"
                                    },
                                    {
                                        "name": "name"
                                    },
                                    {
                                        "name": "age"
                                    },
                                    {
                                        "name": "balance"
                                    }
                                ]
                            },
                            "data": [
                                {
                                    "id": "1",
                                    "name": "张三",
                                    "age": "25",
                                    "balance": "500"
                                },
                                {
                                    "id": "4",
                                    "name": "李四",
                                    "age": "28",
                                    "balance": "1000"
                                },
                                {
                                    "id": "5",
                                    "name": "WZZ",
                                    "age": "40",
                                    "balance": "40"
                                },
                                {
                                    "id": "6",
                                    "name": "王樟卓",
                                    "age": "20",
                                    "balance": "400"
                                },
                                {
                                    "id": "7",
                                    "name": "王樟卓",
                                    "age": "30",
                                    "balance": "500"
                                },
                                {
                                    "id": "8",
                                    "name": "王樟卓",
                                    "age": "70",
                                    "balance": "600"
                                }
                            ]
                        },
                        "text/html": [
                            "<table>",
                            "<tr><th>id</th><th>name</th><th>age</th><th>balance</th></tr>",
                            "<tr><td>1</td><td>张三</td><td>25</td><td>500</td></tr>",
                            "<tr><td>4</td><td>李四</td><td>28</td><td>1000</td></tr>",
                            "<tr><td>5</td><td>WZZ</td><td>40</td><td>40</td></tr>",
                            "<tr><td>6</td><td>王樟卓</td><td>20</td><td>400</td></tr>",
                            "<tr><td>7</td><td>王樟卓</td><td>30</td><td>500</td></tr>",
                            "<tr><td>8</td><td>王樟卓</td><td>70</td><td>600</td></tr>",
                            "</table>"
                        ]
                    }
                }
            ],
            "execution_count": 4
        },
        {
            "cell_type": "code",
            "source": [
                "-- 添加user中admin人物\r\n",
                "USE library;\r\n",
                "SELECT user;\r\n",
                "INSERT INTO user (name, password, ) VALUES ('admin', 'admin', 1);"
            ],
            "metadata": {
                "azdata_cell_guid": "17182a7c-feb1-4a5c-a43e-0f5ec3ff7488",
                "language": "sql"
            },
            "outputs": [],
            "execution_count": null
        }
    ]
}